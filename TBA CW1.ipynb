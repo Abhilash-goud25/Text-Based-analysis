{
 "cells": [
  {
   "cell_type": "markdown",
   "id": "f3573f9c-043e-44d7-b48b-58093b68bb98",
   "metadata": {},
   "source": [
    "# String Operations in python"
   ]
  },
  {
   "cell_type": "markdown",
   "id": "5f37ec85-7b12-44b0-a2a5-a6dcbb6c4bc7",
   "metadata": {},
   "source": [
    "## String Indexing and Slicing in Python."
   ]
  },
  {
   "cell_type": "code",
   "execution_count": 2,
   "id": "6d3cddb6-6a4f-4f0f-b0b6-0c17b4e90a08",
   "metadata": {},
   "outputs": [
    {
     "name": "stdout",
     "output_type": "stream",
     "text": [
      "e\n",
      "llo\n"
     ]
    }
   ],
   "source": [
    "a = \"Hello, World!\"\n",
    "print(a[1])  # This will prints 'e'\n",
    "b = \"Hello, World!\"\n",
    "print(b[2:5])  # This will prints 'llo'\n"
   ]
  },
  {
   "cell_type": "markdown",
   "id": "f2a9884a-c0ee-400e-9e15-c61002f5377a",
   "metadata": {},
   "source": [
    "## Splitting Strings into Lists Using Different Delimiters in Python"
   ]
  },
  {
   "cell_type": "code",
   "execution_count": 1,
   "id": "f4dc14b7-0213-410b-9d37-ba8dc4cd0da5",
   "metadata": {},
   "outputs": [
    {
     "name": "stdout",
     "output_type": "stream",
     "text": [
      "['One', 'two', 'three', 'four']\n",
      "['1', '2', '3', '4', '5']\n"
     ]
    }
   ],
   "source": [
    "# Initialize a string variable\n",
    "my_string = 'One two three four'\n",
    "# Spliting the string into a list of words using default delimiter (space)\n",
    "word_list = my_string.split()\n",
    "# Print the list of words\n",
    "print(word_list)  # Outputs ['One', 'two', 'three', 'four']\n",
    "\n",
    "# Reassign a new string with numbers separated by slashes to the variable\n",
    "my_string = '1/2/3/4/5'\n",
    "# Split the string into a list using '/' as the delimiter\n",
    "number_list = my_string.split('/')\n",
    "# Print the list of numbers as strings\n",
    "print(number_list)  # Outputs ['1', '2', '3', '4', '5']\n"
   ]
  },
  {
   "cell_type": "markdown",
   "id": "ed7f65e6-150f-4eb7-940d-336007455dc7",
   "metadata": {},
   "source": [
    "## Basic String Manipulations in Python: Length, Uppercase, and Lowercase Conversion"
   ]
  },
  {
   "cell_type": "code",
   "execution_count": 4,
   "id": "b680edc6-4ff8-4bd0-bebe-56d09f99e41c",
   "metadata": {},
   "outputs": [
    {
     "name": "stdout",
     "output_type": "stream",
     "text": [
      "8\n",
      "ABHILASH\n",
      "abhilash\n"
     ]
    }
   ],
   "source": [
    "# Assigning the string \"Abhilash\" to the variables a\n",
    "a = \"Abhilash\"\n",
    "\n",
    "# Print the length of the string stored in a\n",
    "print(len(a))  # Outputs the number of characters in the string, including spaces and punctuation\n",
    "\n",
    "# Convert the string in a to uppercase and print it\n",
    "print(a.upper())  # Outputs \"Abhilash\"\n",
    "\n",
    "# Convert the string in a to lowercase and print it\n",
    "print(a.lower())  # Outputs \"Abhilash\"\n"
   ]
  },
  {
   "cell_type": "markdown",
   "id": "33c954e9-1ec0-4640-806a-995e25965f6a",
   "metadata": {},
   "source": [
    "## Removing Leading and Trailing Spaces from Strings in Python"
   ]
  },
  {
   "cell_type": "code",
   "execution_count": 5,
   "id": "7b331a75-1be9-4b72-929b-7b7e00aab2d2",
   "metadata": {},
   "outputs": [
    {
     "name": "stdout",
     "output_type": "stream",
     "text": [
      "String after lstrip(): Abhilash  \n",
      "String after rstrip():   Abhilash\n"
     ]
    }
   ],
   "source": [
    "# Initialize a string with leading and trailing spaces\n",
    "example_string = \"  Abhilash  \"\n",
    "\n",
    "# Use the lstrip() method to remove leading spaces and print the result\n",
    "print(\"String after lstrip():\", example_string.lstrip())\n",
    "# Outputs the string with leading spaces removed, but trailing spaces are still present\n",
    "\n",
    "# Use the rstrip() method to remove trailing spaces and print the result\n",
    "print(\"String after rstrip():\", example_string.rstrip())\n",
    "# Outputs the string with trailing spaces removed.\n",
    "###changes for commit\n"
   ]
  },
  {
   "cell_type": "markdown",
   "id": "e0caaf2e-e1f5-47b2-881b-4b9edebf37d5",
   "metadata": {},
   "source": [
    "## Demonstrating String Slicing Techniques in Python"
   ]
  },
  {
   "cell_type": "code",
   "execution_count": 8,
   "id": "f65d3359-c2d6-4c2f-b6db-a5e37a6f0123",
   "metadata": {},
   "outputs": [
    {
     "name": "stdout",
     "output_type": "stream",
     "text": [
      "Slice 1: Abhilash\n",
      "Slice 2: shgoudMa\n",
      "Slice 3: goudMad\n"
     ]
    }
   ],
   "source": [
    "\n",
    "# Initializing a string variable\n",
    "text = \"AbhilashgoudMaddi\"\n",
    "\n",
    "# Slice the string from index 0 to 5 (not including 5) and store it in slice1\n",
    "slice1 = text[0:8]  # Extracts \"Abhil\"\n",
    "# Slice the string from index 6 to 10 (not including 10) and store it in slice2\n",
    "slice2 = text[6:14] # Extracts \"ashg\"\n",
    "# Slice the string from index 8 to 12 (not including 12) and store it in slice3\n",
    "slice3 = text[8:15] # Extracts \"hgou\"\n",
    "\n",
    "# Print the results of the slicing in this block\n",
    "print(\"Slice 1:\", slice1) # Outputs \"Slice 1: Abhil\"\n",
    "print(\"Slice 2:\", slice2) # Outputs \"Slice 2: ashg\"\n",
    "print(\"Slice 3:\", slice3) # Outputs \"Slice 3: hgou\"\n",
    "\n"
   ]
  }
 ],
 "metadata": {
  "kernelspec": {
   "display_name": "Python 3 (ipykernel)",
   "language": "python",
   "name": "python3"
  },
  "language_info": {
   "codemirror_mode": {
    "name": "ipython",
    "version": 3
   },
   "file_extension": ".py",
   "mimetype": "text/x-python",
   "name": "python",
   "nbconvert_exporter": "python",
   "pygments_lexer": "ipython3",
   "version": "3.12.1"
  }
 },
 "nbformat": 4,
 "nbformat_minor": 5
}
