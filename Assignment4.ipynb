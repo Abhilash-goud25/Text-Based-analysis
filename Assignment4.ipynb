{
 "cells": [
  {
   "cell_type": "markdown",
   "id": "d762e3ef-bb1a-4bb9-a27d-a08abef7ad23",
   "metadata": {},
   "source": [
    "# Sentiment Analysis using Lexicon-based method"
   ]
  },
  {
   "cell_type": "code",
   "execution_count": 5,
   "id": "b5a9d6cd-9131-4177-b8ca-1c66d185cf7b",
   "metadata": {},
   "outputs": [
    {
     "name": "stderr",
     "output_type": "stream",
     "text": [
      "C:\\Users\\abhil\\AppData\\Local\\Temp\\ipykernel_17724\\2162656668.py:1: DeprecationWarning: \n",
      "Pyarrow will become a required dependency of pandas in the next major release of pandas (pandas 3.0),\n",
      "(to allow more performant data types, such as the Arrow string type, and better interoperability with other libraries)\n",
      "but was not found to be installed on your system.\n",
      "If this would cause problems for you,\n",
      "please provide us feedback at https://github.com/pandas-dev/pandas/issues/54466\n",
      "        \n",
      "  import pandas as pd\n"
     ]
    }
   ],
   "source": [
    "import pandas as pd\n",
    "import numpy as np"
   ]
  },
  {
   "cell_type": "code",
   "execution_count": 6,
   "id": "01274570-aec2-4144-8803-48825d41e2e8",
   "metadata": {},
   "outputs": [
    {
     "data": {
      "text/html": [
       "<div>\n",
       "<style scoped>\n",
       "    .dataframe tbody tr th:only-of-type {\n",
       "        vertical-align: middle;\n",
       "    }\n",
       "\n",
       "    .dataframe tbody tr th {\n",
       "        vertical-align: top;\n",
       "    }\n",
       "\n",
       "    .dataframe thead th {\n",
       "        text-align: right;\n",
       "    }\n",
       "</style>\n",
       "<table border=\"1\" class=\"dataframe\">\n",
       "  <thead>\n",
       "    <tr style=\"text-align: right;\">\n",
       "      <th></th>\n",
       "      <th>Tweet</th>\n",
       "      <th>polarity</th>\n",
       "      <th>subjectivity</th>\n",
       "      <th>Sentiment</th>\n",
       "    </tr>\n",
       "  </thead>\n",
       "  <tbody>\n",
       "    <tr>\n",
       "      <th>0</th>\n",
       "      <td>RT @ChristopherJM: Zelensky also confirms CIA ...</td>\n",
       "      <td>0.000000</td>\n",
       "      <td>0.000000</td>\n",
       "      <td>Negative</td>\n",
       "    </tr>\n",
       "    <tr>\n",
       "      <th>1</th>\n",
       "      <td>RT @oryxspioenkop: Russia acquired these vehic...</td>\n",
       "      <td>-0.100000</td>\n",
       "      <td>0.300000</td>\n",
       "      <td>Positive</td>\n",
       "    </tr>\n",
       "    <tr>\n",
       "      <th>2</th>\n",
       "      <td>RT @RepMTG: I’m calling for an audit of every ...</td>\n",
       "      <td>-0.035714</td>\n",
       "      <td>0.607143</td>\n",
       "      <td>Positive</td>\n",
       "    </tr>\n",
       "    <tr>\n",
       "      <th>3</th>\n",
       "      <td>RT @KyivIndependent: \"Russian goal seems to be...</td>\n",
       "      <td>0.034091</td>\n",
       "      <td>0.113636</td>\n",
       "      <td>Negative</td>\n",
       "    </tr>\n",
       "    <tr>\n",
       "      <th>4</th>\n",
       "      <td>RT @william98161886: I see Rishi just given an...</td>\n",
       "      <td>-0.325521</td>\n",
       "      <td>0.166667</td>\n",
       "      <td>Positive</td>\n",
       "    </tr>\n",
       "  </tbody>\n",
       "</table>\n",
       "</div>"
      ],
      "text/plain": [
       "                                               Tweet  polarity  subjectivity  \\\n",
       "0  RT @ChristopherJM: Zelensky also confirms CIA ...  0.000000      0.000000   \n",
       "1  RT @oryxspioenkop: Russia acquired these vehic... -0.100000      0.300000   \n",
       "2  RT @RepMTG: I’m calling for an audit of every ... -0.035714      0.607143   \n",
       "3  RT @KyivIndependent: \"Russian goal seems to be...  0.034091      0.113636   \n",
       "4  RT @william98161886: I see Rishi just given an... -0.325521      0.166667   \n",
       "\n",
       "  Sentiment  \n",
       "0  Negative  \n",
       "1  Positive  \n",
       "2  Positive  \n",
       "3  Negative  \n",
       "4  Positive  "
      ]
     },
     "execution_count": 6,
     "metadata": {},
     "output_type": "execute_result"
    }
   ],
   "source": [
    "df = pd.read_csv(\"C:/Users/abhil/Downloads/archive (6)/Ukraine_10K_tweets_sentiment_analysis.csv\")\n",
    "df.head()"
   ]
  },
  {
   "cell_type": "code",
   "execution_count": 7,
   "id": "782651ca-80f2-4be4-8865-2bb668482175",
   "metadata": {},
   "outputs": [
    {
     "data": {
      "text/plain": [
       "Tweet           168\n",
       "polarity        168\n",
       "subjectivity    168\n",
       "Sentiment       168\n",
       "dtype: int64"
      ]
     },
     "execution_count": 7,
     "metadata": {},
     "output_type": "execute_result"
    }
   ],
   "source": [
    "df.isna().sum()"
   ]
  },
  {
   "cell_type": "markdown",
   "id": "ac6169bd-8103-4cfb-98d7-238210ba5af6",
   "metadata": {},
   "source": [
    "# Sentimental analysis"
   ]
  },
  {
   "cell_type": "markdown",
   "id": "6b1b0ae9-1405-4f59-80d7-6876c4e2f3b8",
   "metadata": {},
   "source": [
    "##  Bing liu lexicon method"
   ]
  },
  {
   "cell_type": "code",
   "execution_count": 8,
   "id": "535da0fd-a6ff-4bef-a226-c7eb385b40c1",
   "metadata": {},
   "outputs": [
    {
     "name": "stdout",
     "output_type": "stream",
     "text": [
      "Index(['Tweet', 'polarity', 'subjectivity', 'Sentiment'], dtype='object')\n"
     ]
    }
   ],
   "source": [
    "print(df.columns)\n",
    "df['Tweet'] = df['Tweet'].astype(str)\n"
   ]
  },
  {
   "cell_type": "code",
   "execution_count": 9,
   "id": "bc20d61a-5841-4ff1-9db3-5197fde8c837",
   "metadata": {},
   "outputs": [
    {
     "data": {
      "text/html": [
       "<div>\n",
       "<style scoped>\n",
       "    .dataframe tbody tr th:only-of-type {\n",
       "        vertical-align: middle;\n",
       "    }\n",
       "\n",
       "    .dataframe tbody tr th {\n",
       "        vertical-align: top;\n",
       "    }\n",
       "\n",
       "    .dataframe thead th {\n",
       "        text-align: right;\n",
       "    }\n",
       "</style>\n",
       "<table border=\"1\" class=\"dataframe\">\n",
       "  <thead>\n",
       "    <tr style=\"text-align: right;\">\n",
       "      <th></th>\n",
       "      <th>Tweet</th>\n",
       "      <th>polarity</th>\n",
       "      <th>subjectivity</th>\n",
       "      <th>Sentiment</th>\n",
       "      <th>Bing_Liu_Score</th>\n",
       "      <th>Bing_Liu_division</th>\n",
       "    </tr>\n",
       "  </thead>\n",
       "  <tbody>\n",
       "    <tr>\n",
       "      <th>0</th>\n",
       "      <td>RT @ChristopherJM: Zelensky also confirms CIA ...</td>\n",
       "      <td>0.000000</td>\n",
       "      <td>0.000000</td>\n",
       "      <td>Negative</td>\n",
       "      <td>-3</td>\n",
       "      <td>negative</td>\n",
       "    </tr>\n",
       "    <tr>\n",
       "      <th>1</th>\n",
       "      <td>RT @oryxspioenkop: Russia acquired these vehic...</td>\n",
       "      <td>-0.100000</td>\n",
       "      <td>0.300000</td>\n",
       "      <td>Positive</td>\n",
       "      <td>0</td>\n",
       "      <td>neutral</td>\n",
       "    </tr>\n",
       "    <tr>\n",
       "      <th>2</th>\n",
       "      <td>RT @RepMTG: I’m calling for an audit of every ...</td>\n",
       "      <td>-0.035714</td>\n",
       "      <td>0.607143</td>\n",
       "      <td>Positive</td>\n",
       "      <td>0</td>\n",
       "      <td>neutral</td>\n",
       "    </tr>\n",
       "    <tr>\n",
       "      <th>3</th>\n",
       "      <td>RT @KyivIndependent: \"Russian goal seems to be...</td>\n",
       "      <td>0.034091</td>\n",
       "      <td>0.113636</td>\n",
       "      <td>Negative</td>\n",
       "      <td>-1</td>\n",
       "      <td>negative</td>\n",
       "    </tr>\n",
       "    <tr>\n",
       "      <th>4</th>\n",
       "      <td>RT @william98161886: I see Rishi just given an...</td>\n",
       "      <td>-0.325521</td>\n",
       "      <td>0.166667</td>\n",
       "      <td>Positive</td>\n",
       "      <td>0</td>\n",
       "      <td>neutral</td>\n",
       "    </tr>\n",
       "  </tbody>\n",
       "</table>\n",
       "</div>"
      ],
      "text/plain": [
       "                                               Tweet  polarity  subjectivity  \\\n",
       "0  RT @ChristopherJM: Zelensky also confirms CIA ...  0.000000      0.000000   \n",
       "1  RT @oryxspioenkop: Russia acquired these vehic... -0.100000      0.300000   \n",
       "2  RT @RepMTG: I’m calling for an audit of every ... -0.035714      0.607143   \n",
       "3  RT @KyivIndependent: \"Russian goal seems to be...  0.034091      0.113636   \n",
       "4  RT @william98161886: I see Rishi just given an... -0.325521      0.166667   \n",
       "\n",
       "  Sentiment  Bing_Liu_Score Bing_Liu_division  \n",
       "0  Negative              -3          negative  \n",
       "1  Positive               0           neutral  \n",
       "2  Positive               0           neutral  \n",
       "3  Negative              -1          negative  \n",
       "4  Positive               0           neutral  "
      ]
     },
     "execution_count": 9,
     "metadata": {},
     "output_type": "execute_result"
    }
   ],
   "source": [
    "from sklearn import preprocessing\n",
    "import nltk\n",
    "from nltk.corpus import opinion_lexicon\n",
    "from nltk.tokenize import word_tokenize\n",
    "\n",
    "pos_score = 1\n",
    "neg_score = -1\n",
    "word_dict = {}\n",
    "# Adding the positive words to the dictionary\n",
    "for word in opinion_lexicon.positive():\n",
    "    word_dict[word] = pos_score\n",
    "\n",
    "# Adding the negative words to the dictionary\n",
    "for word in opinion_lexicon.negative():\n",
    "    word_dict[word] = neg_score\n",
    "    \n",
    "def bing_liu_score(text):\n",
    "    sentiment_score = 0\n",
    "    bag_of_words = word_tokenize(text.lower())\n",
    "    for word in bag_of_words:\n",
    "        if word in word_dict:\n",
    "            sentiment_score += word_dict[word]\n",
    "    return sentiment_score\n",
    "\n",
    "def score_division(scores):\n",
    "    sentiment = ['positive' if score > 0.0\n",
    "                              else 'negative' if score < 0.0\n",
    "                                  else 'neutral'\n",
    "                                      for score in scores]\n",
    "    return sentiment\n",
    "\n",
    "df['Bing_Liu_Score'] = df['Tweet'].apply(bing_liu_score)\n",
    "df['Bing_Liu_division'] = score_division(df['Bing_Liu_Score'])\n",
    "\n",
    "df.head()"
   ]
  },
  {
   "cell_type": "markdown",
   "id": "bec0bfc1-4f9d-4ed7-813a-e0e8a5bb1f71",
   "metadata": {},
   "source": [
    "## Analysis with afinn lexicon method"
   ]
  },
  {
   "cell_type": "code",
   "execution_count": 10,
   "id": "6add5363-497f-45da-91ee-2b24580331d1",
   "metadata": {},
   "outputs": [
    {
     "name": "stdout",
     "output_type": "stream",
     "text": [
      "Requirement already satisfied: afinn in c:\\users\\abhil\\appdata\\local\\programs\\python\\python312\\lib\\site-packages (0.1)\n"
     ]
    },
    {
     "name": "stderr",
     "output_type": "stream",
     "text": [
      "\n",
      "[notice] A new release of pip is available: 23.2.1 -> 24.0\n",
      "[notice] To update, run: python.exe -m pip install --upgrade pip\n"
     ]
    }
   ],
   "source": [
    "!pip install afinn\n"
   ]
  },
  {
   "cell_type": "code",
   "execution_count": 11,
   "id": "7e58ede0-479b-4b88-9c3b-46c53aac0376",
   "metadata": {},
   "outputs": [
    {
     "data": {
      "text/html": [
       "<div>\n",
       "<style scoped>\n",
       "    .dataframe tbody tr th:only-of-type {\n",
       "        vertical-align: middle;\n",
       "    }\n",
       "\n",
       "    .dataframe tbody tr th {\n",
       "        vertical-align: top;\n",
       "    }\n",
       "\n",
       "    .dataframe thead th {\n",
       "        text-align: right;\n",
       "    }\n",
       "</style>\n",
       "<table border=\"1\" class=\"dataframe\">\n",
       "  <thead>\n",
       "    <tr style=\"text-align: right;\">\n",
       "      <th></th>\n",
       "      <th>Tweet</th>\n",
       "      <th>polarity</th>\n",
       "      <th>subjectivity</th>\n",
       "      <th>Sentiment</th>\n",
       "      <th>Bing_Liu_Score</th>\n",
       "      <th>Bing_Liu_division</th>\n",
       "      <th>afinn_score</th>\n",
       "      <th>afinn_division</th>\n",
       "    </tr>\n",
       "  </thead>\n",
       "  <tbody>\n",
       "    <tr>\n",
       "      <th>0</th>\n",
       "      <td>RT @ChristopherJM: Zelensky also confirms CIA ...</td>\n",
       "      <td>0.000000</td>\n",
       "      <td>0.000000</td>\n",
       "      <td>Negative</td>\n",
       "      <td>-3</td>\n",
       "      <td>negative</td>\n",
       "      <td>-1.0</td>\n",
       "      <td>negative</td>\n",
       "    </tr>\n",
       "    <tr>\n",
       "      <th>1</th>\n",
       "      <td>RT @oryxspioenkop: Russia acquired these vehic...</td>\n",
       "      <td>-0.100000</td>\n",
       "      <td>0.300000</td>\n",
       "      <td>Positive</td>\n",
       "      <td>0</td>\n",
       "      <td>neutral</td>\n",
       "      <td>0.0</td>\n",
       "      <td>neutral</td>\n",
       "    </tr>\n",
       "    <tr>\n",
       "      <th>2</th>\n",
       "      <td>RT @RepMTG: I’m calling for an audit of every ...</td>\n",
       "      <td>-0.035714</td>\n",
       "      <td>0.607143</td>\n",
       "      <td>Positive</td>\n",
       "      <td>0</td>\n",
       "      <td>neutral</td>\n",
       "      <td>0.0</td>\n",
       "      <td>neutral</td>\n",
       "    </tr>\n",
       "    <tr>\n",
       "      <th>3</th>\n",
       "      <td>RT @KyivIndependent: \"Russian goal seems to be...</td>\n",
       "      <td>0.034091</td>\n",
       "      <td>0.113636</td>\n",
       "      <td>Negative</td>\n",
       "      <td>-1</td>\n",
       "      <td>negative</td>\n",
       "      <td>-2.0</td>\n",
       "      <td>negative</td>\n",
       "    </tr>\n",
       "    <tr>\n",
       "      <th>4</th>\n",
       "      <td>RT @william98161886: I see Rishi just given an...</td>\n",
       "      <td>-0.325521</td>\n",
       "      <td>0.166667</td>\n",
       "      <td>Positive</td>\n",
       "      <td>0</td>\n",
       "      <td>neutral</td>\n",
       "      <td>-2.0</td>\n",
       "      <td>negative</td>\n",
       "    </tr>\n",
       "  </tbody>\n",
       "</table>\n",
       "</div>"
      ],
      "text/plain": [
       "                                               Tweet  polarity  subjectivity  \\\n",
       "0  RT @ChristopherJM: Zelensky also confirms CIA ...  0.000000      0.000000   \n",
       "1  RT @oryxspioenkop: Russia acquired these vehic... -0.100000      0.300000   \n",
       "2  RT @RepMTG: I’m calling for an audit of every ... -0.035714      0.607143   \n",
       "3  RT @KyivIndependent: \"Russian goal seems to be...  0.034091      0.113636   \n",
       "4  RT @william98161886: I see Rishi just given an... -0.325521      0.166667   \n",
       "\n",
       "  Sentiment  Bing_Liu_Score Bing_Liu_division  afinn_score afinn_division  \n",
       "0  Negative              -3          negative         -1.0       negative  \n",
       "1  Positive               0           neutral          0.0        neutral  \n",
       "2  Positive               0           neutral          0.0        neutral  \n",
       "3  Negative              -1          negative         -2.0       negative  \n",
       "4  Positive               0           neutral         -2.0       negative  "
      ]
     },
     "execution_count": 11,
     "metadata": {},
     "output_type": "execute_result"
    }
   ],
   "source": [
    "from afinn import Afinn\n",
    "\n",
    "afn = Afinn()\n",
    "scores = [afn.score(article) for article in df['Tweet']]\n",
    "\n",
    "     \n",
    "# dataframe creation\n",
    "df['afinn_score'] = scores\n",
    "df['afinn_division'] = score_division(df['afinn_score'])\n",
    "df.head()"
   ]
  },
  {
   "cell_type": "code",
   "execution_count": 12,
   "id": "2708f30f-23fa-4534-98d7-59401ac54f71",
   "metadata": {},
   "outputs": [
    {
     "data": {
      "text/html": [
       "<div>\n",
       "<style scoped>\n",
       "    .dataframe tbody tr th:only-of-type {\n",
       "        vertical-align: middle;\n",
       "    }\n",
       "\n",
       "    .dataframe tbody tr th {\n",
       "        vertical-align: top;\n",
       "    }\n",
       "\n",
       "    .dataframe thead th {\n",
       "        text-align: right;\n",
       "    }\n",
       "</style>\n",
       "<table border=\"1\" class=\"dataframe\">\n",
       "  <thead>\n",
       "    <tr style=\"text-align: right;\">\n",
       "      <th></th>\n",
       "      <th>Tweet</th>\n",
       "      <th>polarity</th>\n",
       "      <th>subjectivity</th>\n",
       "      <th>Sentiment</th>\n",
       "      <th>Bing_Liu_Score</th>\n",
       "      <th>Bing_Liu_division</th>\n",
       "      <th>afinn_score</th>\n",
       "      <th>afinn_division</th>\n",
       "      <th>afinn_acc</th>\n",
       "      <th>Bing_Liu_acc</th>\n",
       "    </tr>\n",
       "  </thead>\n",
       "  <tbody>\n",
       "    <tr>\n",
       "      <th>0</th>\n",
       "      <td>RT @ChristopherJM: Zelensky also confirms CIA ...</td>\n",
       "      <td>0.000000</td>\n",
       "      <td>0.000000</td>\n",
       "      <td>Negative</td>\n",
       "      <td>-3</td>\n",
       "      <td>negative</td>\n",
       "      <td>-1.0</td>\n",
       "      <td>negative</td>\n",
       "      <td>False</td>\n",
       "      <td>False</td>\n",
       "    </tr>\n",
       "    <tr>\n",
       "      <th>1</th>\n",
       "      <td>RT @oryxspioenkop: Russia acquired these vehic...</td>\n",
       "      <td>-0.100000</td>\n",
       "      <td>0.300000</td>\n",
       "      <td>Positive</td>\n",
       "      <td>0</td>\n",
       "      <td>neutral</td>\n",
       "      <td>0.0</td>\n",
       "      <td>neutral</td>\n",
       "      <td>False</td>\n",
       "      <td>False</td>\n",
       "    </tr>\n",
       "    <tr>\n",
       "      <th>2</th>\n",
       "      <td>RT @RepMTG: I’m calling for an audit of every ...</td>\n",
       "      <td>-0.035714</td>\n",
       "      <td>0.607143</td>\n",
       "      <td>Positive</td>\n",
       "      <td>0</td>\n",
       "      <td>neutral</td>\n",
       "      <td>0.0</td>\n",
       "      <td>neutral</td>\n",
       "      <td>False</td>\n",
       "      <td>False</td>\n",
       "    </tr>\n",
       "    <tr>\n",
       "      <th>3</th>\n",
       "      <td>RT @KyivIndependent: \"Russian goal seems to be...</td>\n",
       "      <td>0.034091</td>\n",
       "      <td>0.113636</td>\n",
       "      <td>Negative</td>\n",
       "      <td>-1</td>\n",
       "      <td>negative</td>\n",
       "      <td>-2.0</td>\n",
       "      <td>negative</td>\n",
       "      <td>False</td>\n",
       "      <td>False</td>\n",
       "    </tr>\n",
       "    <tr>\n",
       "      <th>4</th>\n",
       "      <td>RT @william98161886: I see Rishi just given an...</td>\n",
       "      <td>-0.325521</td>\n",
       "      <td>0.166667</td>\n",
       "      <td>Positive</td>\n",
       "      <td>0</td>\n",
       "      <td>neutral</td>\n",
       "      <td>-2.0</td>\n",
       "      <td>negative</td>\n",
       "      <td>False</td>\n",
       "      <td>False</td>\n",
       "    </tr>\n",
       "  </tbody>\n",
       "</table>\n",
       "</div>"
      ],
      "text/plain": [
       "                                               Tweet  polarity  subjectivity  \\\n",
       "0  RT @ChristopherJM: Zelensky also confirms CIA ...  0.000000      0.000000   \n",
       "1  RT @oryxspioenkop: Russia acquired these vehic... -0.100000      0.300000   \n",
       "2  RT @RepMTG: I’m calling for an audit of every ... -0.035714      0.607143   \n",
       "3  RT @KyivIndependent: \"Russian goal seems to be...  0.034091      0.113636   \n",
       "4  RT @william98161886: I see Rishi just given an... -0.325521      0.166667   \n",
       "\n",
       "  Sentiment  Bing_Liu_Score Bing_Liu_division  afinn_score afinn_division  \\\n",
       "0  Negative              -3          negative         -1.0       negative   \n",
       "1  Positive               0           neutral          0.0        neutral   \n",
       "2  Positive               0           neutral          0.0        neutral   \n",
       "3  Negative              -1          negative         -2.0       negative   \n",
       "4  Positive               0           neutral         -2.0       negative   \n",
       "\n",
       "   afinn_acc  Bing_Liu_acc  \n",
       "0      False         False  \n",
       "1      False         False  \n",
       "2      False         False  \n",
       "3      False         False  \n",
       "4      False         False  "
      ]
     },
     "execution_count": 12,
     "metadata": {},
     "output_type": "execute_result"
    }
   ],
   "source": [
    "df['afinn_acc'] = df['Tweet'] == df['afinn_division']\n",
    "df['Bing_Liu_acc'] = df['Tweet'] == df['Bing_Liu_division']\n",
    "df.head()"
   ]
  },
  {
   "cell_type": "markdown",
   "id": "14560dab-8d8a-4a81-b50c-762c8a8e23f9",
   "metadata": {},
   "source": [
    "# Comparision"
   ]
  },
  {
   "cell_type": "markdown",
   "id": "1bd0bc44-0873-40b8-a591-f8688f657519",
   "metadata": {},
   "source": [
    "## original division"
   ]
  },
  {
   "cell_type": "code",
   "execution_count": 13,
   "id": "d394ed5a-ab0b-4772-a2e1-3fb9e00f995b",
   "metadata": {
    "scrolled": true
   },
   "outputs": [
    {
     "data": {
      "image/png": "[encoded data removed]",
      "text/plain": [
       "<Figure size 640x480 with 1 Axes>"
      ]
     },
     "metadata": {},
     "output_type": "display_data"
    }
   ],
   "source": [
    "import matplotlib.pyplot as plt\n",
    "\n",
    "# Count the occurrences of each sentiment category\n",
    "sentiment_counts = df['Sentiment'].value_counts()\n",
    "\n",
    "# Create the pie chart\n",
    "plt.pie(sentiment_counts, labels = sentiment_counts.index, autopct='%1.1f%%', shadow=True)\n",
    "\n",
    "# Optionally, set a title for the chart\n",
    "plt.title('Sentiment Distribution')\n",
    "\n",
    "# Show the pie chart\n",
    "plt.show()\n"
   ]
  },
  {
   "cell_type": "markdown",
   "id": "2556cf22-e959-44e8-8b70-cbbdfdd4d6b2",
   "metadata": {},
   "source": [
    "## Bing Liu division"
   ]
  },
  {
   "cell_type": "code",
   "execution_count": 14,
   "id": "1ca5fe8e-4ed1-435b-a8ca-5faa4be84c5b",
   "metadata": {},
   "outputs": [
    {
     "data": {
      "image/png": "[encoded data removed]",
      "text/plain": [
       "<Figure size 640x480 with 1 Axes>"
      ]
     },
     "metadata": {},
     "output_type": "display_data"
    }
   ],
   "source": [
    "sentiment_counts = df['Bing_Liu_division'].value_counts()\n",
    "\n",
    "plt.pie(sentiment_counts, labels=sentiment_counts.index, autopct='%1.1f%%', shadow=True)\n",
    "plt.show()"
   ]
  },
  {
   "cell_type": "markdown",
   "id": "5f5d81ba-3462-4d9c-bddc-6318d4dea7b1",
   "metadata": {},
   "source": [
    "## Afinn division"
   ]
  },
  {
   "cell_type": "code",
   "execution_count": 15,
   "id": "0eedde0b-34af-4519-9ae3-9c709da76c15",
   "metadata": {},
   "outputs": [
    {
     "data": {
      "image/png": "[encoded data removed]",
      "text/plain": [
       "<Figure size 640x480 with 1 Axes>"
      ]
     },
     "metadata": {},
     "output_type": "display_data"
    }
   ],
   "source": [
    "sentiment_counts = df['afinn_division'].value_counts()\n",
    "\n",
    "plt.pie(sentiment_counts, labels=sentiment_counts.index, autopct='%1.1f%%', shadow=True)\n",
    "plt.show()"
   ]
  },
  {
   "cell_type": "code",
   "execution_count": 16,
   "id": "5f47f571-4c94-4ffb-9e5d-dc0f1829ce09",
   "metadata": {},
   "outputs": [
    {
     "name": "stderr",
     "output_type": "stream",
     "text": [
      "C:\\Users\\abhil\\AppData\\Local\\Temp\\ipykernel_17724\\124952338.py:1: FutureWarning: Series.__getitem__ treating keys as positions is deprecated. In a future version, integer keys will always be treated as labels (consistent with DataFrame behavior). To access a value by position, use `ser.iloc[pos]`\n",
      "  df['afinn_acc'].value_counts()[0]\n"
     ]
    },
    {
     "data": {
      "text/plain": [
       "10167"
      ]
     },
     "execution_count": 16,
     "metadata": {},
     "output_type": "execute_result"
    }
   ],
   "source": [
    "df['afinn_acc'].value_counts()[0]"
   ]
  },
  {
   "cell_type": "code",
   "execution_count": 19,
   "id": "ff8552ea-70d3-46cd-b27c-109767dd3e79",
   "metadata": {},
   "outputs": [
    {
     "name": "stdout",
     "output_type": "stream",
     "text": [
      "AFINN accuracy: 1.0\n",
      "Bing Liu accuracy: 1.0\n"
     ]
    }
   ],
   "source": [
    "def acc_calculator(scores_dict):\n",
    "    correct = scores_dict.get(0, 0)  # Get the count of correct predictions, default to 0 if not present\n",
    "    incorrect = scores_dict.get(1, 0)  # Get the count of incorrect predictions, default to 0 if not present\n",
    "    if correct + incorrect == 0:  # Avoid division by zero\n",
    "        return 0\n",
    "    return correct / (correct + incorrect)\n",
    "\n",
    "# Convert value counts to a dictionary\n",
    "afinn_acc_dict = df['afinn_acc'].value_counts().to_dict()\n",
    "Bing_Liu_acc_dict = df['Bing_Liu_acc'].value_counts().to_dict()\n",
    "\n",
    "# Calculate accuracies using the modified function\n",
    "afinn_acc = acc_calculator(afinn_acc_dict)\n",
    "Bing_Liu_acc = acc_calculator(Bing_Liu_acc_dict)\n",
    "\n",
    "print(f'AFINN accuracy: {afinn_acc}')\n",
    "print(f'Bing Liu accuracy: {Bing_Liu_acc}')\n"
   ]
  },
  {
   "cell_type": "markdown",
   "id": "b81f082d-17d7-4255-9e12-c337a4490863",
   "metadata": {},
   "source": [
    "In this comparison, I analyzed the original data using Bing Liu and AFINN algorithms. However, for this particular dataset, the results were identical."
   ]
  },
  {
   "cell_type": "markdown",
   "id": "c033006d-ce60-4508-935a-12f6d608a42e",
   "metadata": {},
   "source": [
    "# VADER ALGORITHM"
   ]
  },
  {
   "cell_type": "code",
   "execution_count": 23,
   "id": "1904c9b6-7098-4c14-80c5-60f381a6c300",
   "metadata": {},
   "outputs": [
    {
     "data": {
      "image/png": "[encoded data removed]",
      "text/plain": [
       "<Figure size 640x480 with 1 Axes>"
      ]
     },
     "metadata": {},
     "output_type": "display_data"
    }
   ],
   "source": [
    "sentiment_counts = df['vader_sentiment'].value_counts()\n",
    "\n",
    "plt.pie(sentiment_counts, labels=sentiment_counts.index, autopct='%1.1f%%', shadow=True)\n",
    "plt.show()"
   ]
  },
  {
   "cell_type": "markdown",
   "id": "0b7b353e-7e28-41dc-a6e8-e538a0111abc",
   "metadata": {},
   "source": [
    "# TEXTBLOB ALGORITHM"
   ]
  },
  {
   "cell_type": "code",
   "execution_count": 24,
   "id": "868da9b8-9e49-4517-bbe0-00ac30ab51a3",
   "metadata": {},
   "outputs": [
    {
     "data": {
      "image/png": "[encoded data removed]",
      "text/plain": [
       "<Figure size 640x480 with 1 Axes>"
      ]
     },
     "metadata": {},
     "output_type": "display_data"
    }
   ],
   "source": [
    "sentiment_counts = df['textblob_sentiment'].value_counts()\n",
    "\n",
    "plt.pie(sentiment_counts, labels=sentiment_counts.index, autopct='%1.1f%%', shadow=True)\n",
    "plt.show()"
   ]
  },
  {
   "cell_type": "code",
   "execution_count": 20,
   "id": "a0dfd806-7b6b-47c3-976d-405e2c2486fa",
   "metadata": {},
   "outputs": [
    {
     "name": "stdout",
     "output_type": "stream",
     "text": [
      "Collecting vaderSentiment\n",
      "  Downloading vaderSentiment-3.3.2-py2.py3-none-any.whl (125 kB)\n",
      "     ---------------------------------------- 0.0/126.0 kB ? eta -:--:--\n",
      "     --------- ----------------------------- 30.7/126.0 kB 1.4 MB/s eta 0:00:01\n",
      "     ------------------ ------------------ 61.4/126.0 kB 656.4 kB/s eta 0:00:01\n",
      "     --------------------------- --------- 92.2/126.0 kB 751.6 kB/s eta 0:00:01\n",
      "     -----------------------------------  122.9/126.0 kB 804.6 kB/s eta 0:00:01\n",
      "     ------------------------------------ 126.0/126.0 kB 672.7 kB/s eta 0:00:00\n",
      "Requirement already satisfied: textblob in c:\\users\\abhil\\appdata\\local\\programs\\python\\python312\\lib\\site-packages (0.17.1)\n",
      "Requirement already satisfied: requests in c:\\users\\abhil\\appdata\\local\\programs\\python\\python312\\lib\\site-packages (from vaderSentiment) (2.31.0)\n",
      "Requirement already satisfied: nltk>=3.1 in c:\\users\\abhil\\appdata\\local\\programs\\python\\python312\\lib\\site-packages (from textblob) (3.8.1)\n",
      "Requirement already satisfied: click in c:\\users\\abhil\\appdata\\local\\programs\\python\\python312\\lib\\site-packages (from nltk>=3.1->textblob) (8.1.7)\n",
      "Requirement already satisfied: joblib in c:\\users\\abhil\\appdata\\local\\programs\\python\\python312\\lib\\site-packages (from nltk>=3.1->textblob) (1.3.2)\n",
      "Requirement already satisfied: regex>=2021.8.3 in c:\\users\\abhil\\appdata\\local\\programs\\python\\python312\\lib\\site-packages (from nltk>=3.1->textblob) (2023.12.25)\n",
      "Requirement already satisfied: tqdm in c:\\users\\abhil\\appdata\\local\\programs\\python\\python312\\lib\\site-packages (from nltk>=3.1->textblob) (4.66.1)\n",
      "Requirement already satisfied: charset-normalizer<4,>=2 in c:\\users\\abhil\\appdata\\local\\programs\\python\\python312\\lib\\site-packages (from requests->vaderSentiment) (3.3.2)\n",
      "Requirement already satisfied: idna<4,>=2.5 in c:\\users\\abhil\\appdata\\local\\programs\\python\\python312\\lib\\site-packages (from requests->vaderSentiment) (3.6)\n",
      "Requirement already satisfied: urllib3<3,>=1.21.1 in c:\\users\\abhil\\appdata\\local\\programs\\python\\python312\\lib\\site-packages (from requests->vaderSentiment) (2.1.0)\n",
      "Requirement already satisfied: certifi>=2017.4.17 in c:\\users\\abhil\\appdata\\local\\programs\\python\\python312\\lib\\site-packages (from requests->vaderSentiment) (2023.11.17)\n",
      "Requirement already satisfied: colorama in c:\\users\\abhil\\appdata\\local\\programs\\python\\python312\\lib\\site-packages (from click->nltk>=3.1->textblob) (0.4.6)\n",
      "Installing collected packages: vaderSentiment\n",
      "Successfully installed vaderSentiment-3.3.2\n"
     ]
    },
    {
     "name": "stderr",
     "output_type": "stream",
     "text": [
      "\n",
      "[notice] A new release of pip is available: 23.2.1 -> 24.0\n",
      "[notice] To update, run: python.exe -m pip install --upgrade pip\n"
     ]
    }
   ],
   "source": [
    "!pip install vaderSentiment textblob\n"
   ]
  },
  {
   "cell_type": "code",
   "execution_count": 22,
   "id": "5c6a3642-833d-4ccf-84c6-0298da9d8c19",
   "metadata": {},
   "outputs": [
    {
     "name": "stdout",
     "output_type": "stream",
     "text": [
      "VADER accuracy: 0.6653880200649159\n",
      "TextBlob accuracy: 1.0\n"
     ]
    }
   ],
   "source": [
    "from vaderSentiment.vaderSentiment import SentimentIntensityAnalyzer\n",
    "from textblob import TextBlob\n",
    "\n",
    "# Assuming df['Tweet'] contains the text you want to analyze\n",
    "\n",
    "# Initialize VADER SentimentIntensityAnalyzer\n",
    "analyzer = SentimentIntensityAnalyzer()\n",
    "\n",
    "# Function to classify sentiment using VADER\n",
    "def vader_sentiment(text):\n",
    "    vs = analyzer.polarity_scores(text)\n",
    "    if vs['compound'] >= 0.05:\n",
    "        return 'Positive'\n",
    "    elif vs['compound'] <= -0.05:\n",
    "        return 'Negative'\n",
    "    else:\n",
    "        return 'Neutral'\n",
    "\n",
    "# Function to classify sentiment using TextBlob\n",
    "def textblob_sentiment(text):\n",
    "    analysis = TextBlob(text)\n",
    "    if analysis.sentiment.polarity > 0:\n",
    "        return 'Positive'\n",
    "    elif analysis.sentiment.polarity < 0:\n",
    "        return 'Negative'\n",
    "    else:\n",
    "        return 'Neutral'\n",
    "\n",
    "# Apply the functions to your DataFrame\n",
    "df['vader_sentiment'] = df['Tweet'].apply(vader_sentiment)\n",
    "df['textblob_sentiment'] = df['Tweet'].apply(textblob_sentiment)\n",
    "\n",
    "# Assuming you have a column 'True_Sentiment' to compare with\n",
    "df['vader_acc'] = (df['vader_sentiment'] == df['Sentiment']).astype(int)\n",
    "df['textblob_acc'] = (df['textblob_sentiment'] == df['Sentiment']).astype(int)\n",
    "\n",
    "# Convert value counts to a dictionary\n",
    "vader_acc_dict = df['vader_acc'].value_counts().to_dict()\n",
    "textblob_acc_dict = df['textblob_acc'].value_counts().to_dict()\n",
    "\n",
    "# Calculate accuracies using the acc_calculator function\n",
    "vader_acc = acc_calculator(vader_acc_dict)\n",
    "textblob_acc = acc_calculator(textblob_acc_dict)\n",
    "\n",
    "print(f'VADER accuracy: {vader_acc}')\n",
    "print(f'TextBlob accuracy: {textblob_acc}')\n"
   ]
  },
  {
   "cell_type": "markdown",
   "id": "ccbdcc05-d878-45ff-8232-a7295f5801cc",
   "metadata": {},
   "source": [
    "In this comparison, I evaluated the original data using the VADER and TextBlob algorithms. Based on the analysis, I determined that the TextBlob algorithm is superior for sentiment analysis."
   ]
  }
 ],
 "metadata": {
  "kernelspec": {
   "display_name": "Python 3 (ipykernel)",
   "language": "python",
   "name": "python3"
  },
  "language_info": {
   "codemirror_mode": {
    "name": "ipython",
    "version": 3
   },
   "file_extension": ".py",
   "mimetype": "text/x-python",
   "name": "python",
   "nbconvert_exporter": "python",
   "pygments_lexer": "ipython3",
   "version": "3.12.1"
  }
 },
 "nbformat": 4,
 "nbformat_minor": 5
}
