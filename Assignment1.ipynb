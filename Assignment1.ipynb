{
 "cells": [
  {
   "cell_type": "markdown",
   "id": "43e38fcc-e32b-4a41-b2e5-0bf7dbccd732",
   "metadata": {},
   "source": [
    "# Accessing individual characters"
   ]
  },
  {
   "cell_type": "code",
   "execution_count": 1,
   "id": "f9d6c723-f668-45e4-8a3d-097183f9090c",
   "metadata": {},
   "outputs": [
    {
     "name": "stdout",
     "output_type": "stream",
     "text": [
      "A\n",
      "b\n",
      "h\n",
      "i\n",
      "l\n",
      "a\n",
      "s\n",
      "h\n",
      " \n",
      "G\n",
      "o\n",
      "u\n",
      "d\n"
     ]
    }
   ],
   "source": [
    "a = \"Abhilash Goud\"\n",
    "\n",
    "for i in a:\n",
    "    print(i)"
   ]
  },
  {
   "cell_type": "markdown",
   "id": "67f17e96-5dc8-4ccf-9df2-cb2eaafa05fa",
   "metadata": {},
   "source": [
    "# String merging"
   ]
  },
  {
   "cell_type": "code",
   "execution_count": 2,
   "id": "e41bb0ce-3478-4080-8deb-1418e30a81c8",
   "metadata": {},
   "outputs": [
    {
     "name": "stdout",
     "output_type": "stream",
     "text": [
      "Abhilash Goud\n",
      "Abhilash Goud Maddi\n"
     ]
    }
   ],
   "source": [
    "print(a)\n",
    "new_string = a + \" Maddi\"\n",
    "print(new_string)"
   ]
  },
  {
   "cell_type": "markdown",
   "id": "61be2602-fb18-4c3a-b235-880625e0d21b",
   "metadata": {},
   "source": [
    "# String methods"
   ]
  },
  {
   "cell_type": "markdown",
   "id": "9927ad50-d2f8-4b92-a039-46b95c51f3cb",
   "metadata": {},
   "source": [
    "## Checking String Suffixes"
   ]
  },
  {
   "cell_type": "code",
   "execution_count": 6,
   "id": "771725e5-4106-488c-ba25-a79905299087",
   "metadata": {},
   "outputs": [
    {
     "name": "stdout",
     "output_type": "stream",
     "text": [
      "True\n",
      "False\n"
     ]
    }
   ],
   "source": [
    "print(new_string.endswith('i'))\n",
    "print(new_string.endswith('a'))"
   ]
  },
  {
   "cell_type": "markdown",
   "id": "e58c16b3-ed41-465a-9298-51fdb21bf248",
   "metadata": {},
   "source": [
    "## Validating String Prefixes"
   ]
  },
  {
   "cell_type": "code",
   "execution_count": 7,
   "id": "0c47b8b0-27d0-4c41-9073-91db4173ab13",
   "metadata": {},
   "outputs": [
    {
     "name": "stdout",
     "output_type": "stream",
     "text": [
      "False\n",
      "True\n"
     ]
    }
   ],
   "source": [
    "print(new_string.startswith('a'))\n",
    "print(new_string.startswith('A'))"
   ]
  },
  {
   "cell_type": "markdown",
   "id": "f839b90a-51c8-400b-a045-512e519a9cb0",
   "metadata": {},
   "source": [
    "## Finding a Character's Position in a String"
   ]
  },
  {
   "cell_type": "code",
   "execution_count": 11,
   "id": "97e56930-ad07-4145-9cf2-b471a1219fe1",
   "metadata": {},
   "outputs": [
    {
     "name": "stdout",
     "output_type": "stream",
     "text": [
      "9\n"
     ]
    }
   ],
   "source": [
    "print(new_string.find('G'))"
   ]
  },
  {
   "cell_type": "markdown",
   "id": "caa1af60-acbe-494a-9751-a203ff7a0882",
   "metadata": {},
   "source": [
    "## Displaying a String and Replacing Characters"
   ]
  },
  {
   "cell_type": "code",
   "execution_count": 12,
   "id": "860565e8-0f18-4613-a934-122325c81679",
   "metadata": {},
   "outputs": [
    {
     "name": "stdout",
     "output_type": "stream",
     "text": [
      "Abhilash Goud Maddi\n",
      "Abhilash goud Maddi\n"
     ]
    }
   ],
   "source": [
    "print(new_string)\n",
    "print(new_string.replace('G', 'g'))"
   ]
  }
 ],
 "metadata": {
  "kernelspec": {
   "display_name": "Python 3 (ipykernel)",
   "language": "python",
   "name": "python3"
  },
  "language_info": {
   "codemirror_mode": {
    "name": "ipython",
    "version": 3
   },
   "file_extension": ".py",
   "mimetype": "text/x-python",
   "name": "python",
   "nbconvert_exporter": "python",
   "pygments_lexer": "ipython3",
   "version": "3.12.1"
  }
 },
 "nbformat": 4,
 "nbformat_minor": 5
}
